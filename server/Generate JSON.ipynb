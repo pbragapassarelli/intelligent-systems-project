{
 "cells": [
  {
   "cell_type": "code",
   "execution_count": 1,
   "metadata": {},
   "outputs": [],
   "source": [
    "import pandas as pd\n",
    "import os\n",
    "import json"
   ]
  },
  {
   "cell_type": "code",
   "execution_count": 2,
   "metadata": {},
   "outputs": [],
   "source": [
    "TEST_PRODUCTS_PATH = '../data/test_products.json'\n",
    "TEST_PRODUCTS_RAW_PATH = '../data/test_products.csv'\n",
    "WORD_VECTOR_PATH = '../data/word_vector.pkl'\n",
    "MODEL_PATH = '../data/model.pkl'"
   ]
  },
  {
   "cell_type": "code",
   "execution_count": 3,
   "metadata": {},
   "outputs": [
    {
     "data": {
      "text/html": [
       "<div>\n",
       "<style scoped>\n",
       "    .dataframe tbody tr th:only-of-type {\n",
       "        vertical-align: middle;\n",
       "    }\n",
       "\n",
       "    .dataframe tbody tr th {\n",
       "        vertical-align: top;\n",
       "    }\n",
       "\n",
       "    .dataframe thead th {\n",
       "        text-align: right;\n",
       "    }\n",
       "</style>\n",
       "<table border=\"1\" class=\"dataframe\">\n",
       "  <thead>\n",
       "    <tr style=\"text-align: right;\">\n",
       "      <th></th>\n",
       "      <th>product_id</th>\n",
       "      <th>seller_id</th>\n",
       "      <th>query</th>\n",
       "      <th>search_page</th>\n",
       "      <th>position</th>\n",
       "      <th>title</th>\n",
       "      <th>concatenated_tags</th>\n",
       "      <th>creation_date</th>\n",
       "      <th>price</th>\n",
       "      <th>weight</th>\n",
       "      <th>express_delivery</th>\n",
       "      <th>minimum_quantity</th>\n",
       "      <th>view_counts</th>\n",
       "      <th>order_counts</th>\n",
       "      <th>category</th>\n",
       "    </tr>\n",
       "  </thead>\n",
       "  <tbody>\n",
       "    <tr>\n",
       "      <th>0</th>\n",
       "      <td>4973768</td>\n",
       "      <td>2484177</td>\n",
       "      <td>lembrancinhas de 15 anos</td>\n",
       "      <td>5</td>\n",
       "      <td>8</td>\n",
       "      <td>Lembrancinha 15 anos - Lembrancinha de 15 anos</td>\n",
       "      <td>15 anos</td>\n",
       "      <td>2019-02-02 10:28:57</td>\n",
       "      <td>14.180000</td>\n",
       "      <td>10.0</td>\n",
       "      <td>1</td>\n",
       "      <td>13</td>\n",
       "      <td>91</td>\n",
       "      <td>NaN</td>\n",
       "      <td>Lembrancinhas</td>\n",
       "    </tr>\n",
       "    <tr>\n",
       "      <th>1</th>\n",
       "      <td>14180109</td>\n",
       "      <td>3191400</td>\n",
       "      <td>prateleira</td>\n",
       "      <td>1</td>\n",
       "      <td>32</td>\n",
       "      <td>Trio de Nichos Prateleira</td>\n",
       "      <td>prateleiras decoracao gaveteiros nichos pratel...</td>\n",
       "      <td>2017-08-23 22:17:01</td>\n",
       "      <td>97.060005</td>\n",
       "      <td>7492.0</td>\n",
       "      <td>1</td>\n",
       "      <td>1</td>\n",
       "      <td>729</td>\n",
       "      <td>32.0</td>\n",
       "      <td>Decoração</td>\n",
       "    </tr>\n",
       "    <tr>\n",
       "      <th>2</th>\n",
       "      <td>5058490</td>\n",
       "      <td>1414443</td>\n",
       "      <td>lembrancinhas vingadores</td>\n",
       "      <td>2</td>\n",
       "      <td>19</td>\n",
       "      <td>Caixa meia bala Vingadores</td>\n",
       "      <td>vingadores super herois</td>\n",
       "      <td>2017-05-28 04:26:03</td>\n",
       "      <td>11.580000</td>\n",
       "      <td>0.0</td>\n",
       "      <td>1</td>\n",
       "      <td>13</td>\n",
       "      <td>92</td>\n",
       "      <td>NaN</td>\n",
       "      <td>Lembrancinhas</td>\n",
       "    </tr>\n",
       "    <tr>\n",
       "      <th>3</th>\n",
       "      <td>576188</td>\n",
       "      <td>9188811</td>\n",
       "      <td>sacolinha galinha pintadinha</td>\n",
       "      <td>1</td>\n",
       "      <td>6</td>\n",
       "      <td>Sacolinha Galinha Pintadinha</td>\n",
       "      <td>sacolinhas galinha pintadinha sacolinhas perso...</td>\n",
       "      <td>2017-02-14 10:19:28</td>\n",
       "      <td>13.390000</td>\n",
       "      <td>8.0</td>\n",
       "      <td>1</td>\n",
       "      <td>15</td>\n",
       "      <td>34</td>\n",
       "      <td>NaN</td>\n",
       "      <td>Lembrancinhas</td>\n",
       "    </tr>\n",
       "    <tr>\n",
       "      <th>4</th>\n",
       "      <td>5190417</td>\n",
       "      <td>2497208</td>\n",
       "      <td>vaso de barro atacado</td>\n",
       "      <td>1</td>\n",
       "      <td>23</td>\n",
       "      <td>30 Mini Vaso 6cm Cerâmica Lembrancinha casamen...</td>\n",
       "      <td>cha bebe lhama mini vasos c adesivos</td>\n",
       "      <td>2018-10-19 00:22:33</td>\n",
       "      <td>11.470000</td>\n",
       "      <td>2009.0</td>\n",
       "      <td>1</td>\n",
       "      <td>39</td>\n",
       "      <td>741</td>\n",
       "      <td>NaN</td>\n",
       "      <td>Lembrancinhas</td>\n",
       "    </tr>\n",
       "  </tbody>\n",
       "</table>\n",
       "</div>"
      ],
      "text/plain": [
       "   product_id  seller_id                         query  search_page  position  \\\n",
       "0     4973768    2484177      lembrancinhas de 15 anos            5         8   \n",
       "1    14180109    3191400                    prateleira            1        32   \n",
       "2     5058490    1414443      lembrancinhas vingadores            2        19   \n",
       "3      576188    9188811  sacolinha galinha pintadinha            1         6   \n",
       "4     5190417    2497208         vaso de barro atacado            1        23   \n",
       "\n",
       "                                               title  \\\n",
       "0     Lembrancinha 15 anos - Lembrancinha de 15 anos   \n",
       "1                          Trio de Nichos Prateleira   \n",
       "2                         Caixa meia bala Vingadores   \n",
       "3                       Sacolinha Galinha Pintadinha   \n",
       "4  30 Mini Vaso 6cm Cerâmica Lembrancinha casamen...   \n",
       "\n",
       "                                   concatenated_tags        creation_date  \\\n",
       "0                                            15 anos  2019-02-02 10:28:57   \n",
       "1  prateleiras decoracao gaveteiros nichos pratel...  2017-08-23 22:17:01   \n",
       "2                            vingadores super herois  2017-05-28 04:26:03   \n",
       "3  sacolinhas galinha pintadinha sacolinhas perso...  2017-02-14 10:19:28   \n",
       "4               cha bebe lhama mini vasos c adesivos  2018-10-19 00:22:33   \n",
       "\n",
       "       price  weight  express_delivery  minimum_quantity  view_counts  \\\n",
       "0  14.180000    10.0                 1                13           91   \n",
       "1  97.060005  7492.0                 1                 1          729   \n",
       "2  11.580000     0.0                 1                13           92   \n",
       "3  13.390000     8.0                 1                15           34   \n",
       "4  11.470000  2009.0                 1                39          741   \n",
       "\n",
       "   order_counts       category  \n",
       "0           NaN  Lembrancinhas  \n",
       "1          32.0      Decoração  \n",
       "2           NaN  Lembrancinhas  \n",
       "3           NaN  Lembrancinhas  \n",
       "4           NaN  Lembrancinhas  "
      ]
     },
     "execution_count": 3,
     "metadata": {},
     "output_type": "execute_result"
    }
   ],
   "source": [
    "df = pd.read_csv(TEST_PRODUCTS_RAW_PATH)\n",
    "df.head()"
   ]
  },
  {
   "cell_type": "code",
   "execution_count": 4,
   "metadata": {},
   "outputs": [
    {
     "data": {
      "text/plain": [
       "product_id             0\n",
       "seller_id              0\n",
       "query                  0\n",
       "search_page            0\n",
       "position               0\n",
       "title                  0\n",
       "concatenated_tags      0\n",
       "creation_date          0\n",
       "price                  0\n",
       "weight                 0\n",
       "express_delivery       0\n",
       "minimum_quantity       0\n",
       "view_counts            0\n",
       "order_counts         281\n",
       "category               0\n",
       "dtype: int64"
      ]
     },
     "execution_count": 4,
     "metadata": {},
     "output_type": "execute_result"
    }
   ],
   "source": [
    "df.isna().sum()"
   ]
  },
  {
   "cell_type": "code",
   "execution_count": 5,
   "metadata": {},
   "outputs": [
    {
     "data": {
      "text/plain": [
       "product_id           0\n",
       "seller_id            0\n",
       "query                0\n",
       "search_page          0\n",
       "position             0\n",
       "title                0\n",
       "concatenated_tags    0\n",
       "creation_date        0\n",
       "price                0\n",
       "weight               0\n",
       "express_delivery     0\n",
       "minimum_quantity     0\n",
       "view_counts          0\n",
       "order_counts         0\n",
       "category             0\n",
       "dtype: int64"
      ]
     },
     "execution_count": 5,
     "metadata": {},
     "output_type": "execute_result"
    }
   ],
   "source": [
    "df_clean = df.copy()\n",
    "\n",
    "df_clean['order_counts'] = df_clean.order_counts.fillna(0)\n",
    "df_clean.isna().sum()"
   ]
  },
  {
   "cell_type": "code",
   "execution_count": 6,
   "metadata": {},
   "outputs": [],
   "source": [
    "df_as_json = df_clean.to_json(orient='records', force_ascii=False)\n",
    "product_list_json = json.loads(df_as_json)\n",
    "\n",
    "with open(TEST_PRODUCTS_PATH, 'w') as f:\n",
    "    json.dump({'products': product_list_json}, f)"
   ]
  }
 ],
 "metadata": {
  "kernelspec": {
   "display_name": "Python 3",
   "language": "python",
   "name": "python3"
  },
  "language_info": {
   "codemirror_mode": {
    "name": "ipython",
    "version": 3
   },
   "file_extension": ".py",
   "mimetype": "text/x-python",
   "name": "python",
   "nbconvert_exporter": "python",
   "pygments_lexer": "ipython3",
   "version": "3.7.4"
  }
 },
 "nbformat": 4,
 "nbformat_minor": 2
}
